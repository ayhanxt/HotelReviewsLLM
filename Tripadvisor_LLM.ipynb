{
 "cells": [
  {
   "cell_type": "code",
   "execution_count": 1,
   "id": "a41b19cd-21b0-4813-8dd0-7e6571fe8910",
   "metadata": {},
   "outputs": [
    {
     "name": "stdout",
     "output_type": "stream",
     "text": [
      "Toplam yorum sayısı: 68785\n"
     ]
    },
    {
     "data": {
      "text/html": [
       "<div>\n",
       "<style scoped>\n",
       "    .dataframe tbody tr th:only-of-type {\n",
       "        vertical-align: middle;\n",
       "    }\n",
       "\n",
       "    .dataframe tbody tr th {\n",
       "        vertical-align: top;\n",
       "    }\n",
       "\n",
       "    .dataframe thead th {\n",
       "        text-align: right;\n",
       "    }\n",
       "</style>\n",
       "<table border=\"1\" class=\"dataframe\">\n",
       "  <thead>\n",
       "    <tr style=\"text-align: right;\">\n",
       "      <th></th>\n",
       "      <th>hotel_url</th>\n",
       "      <th>profile_reviewer</th>\n",
       "      <th>rating</th>\n",
       "      <th>review_title</th>\n",
       "      <th>review_text</th>\n",
       "      <th>date</th>\n",
       "    </tr>\n",
       "  </thead>\n",
       "  <tbody>\n",
       "    <tr>\n",
       "      <th>0</th>\n",
       "      <td>/Hotel_Review-g293974-d15235441-Reviews-Radiss...</td>\n",
       "      <td>/Profile/knight07</td>\n",
       "      <td>5</td>\n",
       "      <td>Would definitely recommend</td>\n",
       "      <td>Very close to mall and many restaurants. Great...</td>\n",
       "      <td>Nov 2023</td>\n",
       "    </tr>\n",
       "    <tr>\n",
       "      <th>1</th>\n",
       "      <td>/Hotel_Review-g293974-d15235441-Reviews-Radiss...</td>\n",
       "      <td>/Profile/tripswaytourism</td>\n",
       "      <td>5</td>\n",
       "      <td>‪Radisson Collection Hotel, Vadistanbul‬</td>\n",
       "      <td>May the peace, blessings, and mercy of God be ...</td>\n",
       "      <td>Oct 2023</td>\n",
       "    </tr>\n",
       "    <tr>\n",
       "      <th>2</th>\n",
       "      <td>/Hotel_Review-g293974-d15235441-Reviews-Radiss...</td>\n",
       "      <td>/Profile/FredericF207</td>\n",
       "      <td>5</td>\n",
       "      <td>Lovely stay and amazing view</td>\n",
       "      <td>Amazing staff and service, we have stayed for ...</td>\n",
       "      <td>Aug 2023</td>\n",
       "    </tr>\n",
       "    <tr>\n",
       "      <th>3</th>\n",
       "      <td>/Hotel_Review-g293974-d15235441-Reviews-Radiss...</td>\n",
       "      <td>/Profile/alevit595800</td>\n",
       "      <td>4</td>\n",
       "      <td>exallent</td>\n",
       "      <td>staff very helpful friendly and polite!good lo...</td>\n",
       "      <td>Aug 2023</td>\n",
       "    </tr>\n",
       "    <tr>\n",
       "      <th>4</th>\n",
       "      <td>/Hotel_Review-g293974-d15235441-Reviews-Radiss...</td>\n",
       "      <td>/Profile/don3ziz</td>\n",
       "      <td>5</td>\n",
       "      <td>Good hotel next to the mall</td>\n",
       "      <td>Good location next to tge mall and not far fro...</td>\n",
       "      <td>Aug 2023</td>\n",
       "    </tr>\n",
       "  </tbody>\n",
       "</table>\n",
       "</div>"
      ],
      "text/plain": [
       "                                           hotel_url  \\\n",
       "0  /Hotel_Review-g293974-d15235441-Reviews-Radiss...   \n",
       "1  /Hotel_Review-g293974-d15235441-Reviews-Radiss...   \n",
       "2  /Hotel_Review-g293974-d15235441-Reviews-Radiss...   \n",
       "3  /Hotel_Review-g293974-d15235441-Reviews-Radiss...   \n",
       "4  /Hotel_Review-g293974-d15235441-Reviews-Radiss...   \n",
       "\n",
       "           profile_reviewer  rating                              review_title  \\\n",
       "0         /Profile/knight07       5                Would definitely recommend   \n",
       "1  /Profile/tripswaytourism       5  ‪Radisson Collection Hotel, Vadistanbul‬   \n",
       "2     /Profile/FredericF207       5              Lovely stay and amazing view   \n",
       "3     /Profile/alevit595800       4                                  exallent   \n",
       "4          /Profile/don3ziz       5               Good hotel next to the mall   \n",
       "\n",
       "                                         review_text      date  \n",
       "0  Very close to mall and many restaurants. Great...  Nov 2023  \n",
       "1  May the peace, blessings, and mercy of God be ...  Oct 2023  \n",
       "2  Amazing staff and service, we have stayed for ...  Aug 2023  \n",
       "3  staff very helpful friendly and polite!good lo...  Aug 2023  \n",
       "4  Good location next to tge mall and not far fro...  Aug 2023  "
      ]
     },
     "execution_count": 1,
     "metadata": {},
     "output_type": "execute_result"
    }
   ],
   "source": [
    "import pandas as pd\n",
    "\n",
    "# TripAdvisor otel yorumları veri setini yükleyelim\n",
    "df = pd.read_csv(\"hotelReviews.csv\")\n",
    "print(\"Toplam yorum sayısı:\", len(df))\n",
    "\n",
    "# Veri yapısını görmek için ilk birkaç satırı gösterelim\n",
    "df.head(5)\n"
   ]
  },
  {
   "cell_type": "code",
   "execution_count": 2,
   "id": "dd07657c-1847-4cd7-8c58-1fd82e4f591c",
   "metadata": {},
   "outputs": [
    {
     "name": "stdout",
     "output_type": "stream",
     "text": [
      "Yıldız puanı dağılımı:\n",
      " rating\n",
      "1     4887\n",
      "2     2603\n",
      "3     5188\n",
      "4    13298\n",
      "5    42809\n",
      "Name: count, dtype: int64\n"
     ]
    },
    {
     "data": {
      "image/png": "[encoded data removed]",
      "text/plain": [
       "<Figure size 600x400 with 1 Axes>"
      ]
     },
     "metadata": {},
     "output_type": "display_data"
    }
   ],
   "source": [
    "import matplotlib.pyplot as plt\n",
    "\n",
    "# Yıldız puanlarının dağılımını hesaplayalım\n",
    "rating_counts = df['rating'].value_counts().sort_index()\n",
    "print(\"Yıldız puanı dağılımı:\\n\", rating_counts)\n",
    "\n",
    "# Yıldız puanlarının dağılımını çubuk grafikte gösterelim\n",
    "plt.figure(figsize=(6,4))\n",
    "plt.bar(rating_counts.index.astype(str), rating_counts.values, color='skyblue', edgecolor='gray')\n",
    "plt.xlabel('Yıldız Puanı')\n",
    "plt.ylabel('Yorum Sayısı')\n",
    "plt.title('Yıldız Puanlarının Dağılımı')\n",
    "plt.show()\n"
   ]
  },
  {
   "cell_type": "code",
   "execution_count": 3,
   "id": "31580337-73ec-4472-9156-10021fa45e80",
   "metadata": {},
   "outputs": [
    {
     "name": "stdout",
     "output_type": "stream",
     "text": [
      "count    68785.000000\n",
      "mean        81.386407\n",
      "std         39.779297\n",
      "min          1.000000\n",
      "50%         69.000000\n",
      "95%        149.000000\n",
      "99%        156.000000\n",
      "max        176.000000\n",
      "Name: review_text, dtype: float64\n"
     ]
    }
   ],
   "source": [
    "# Her bir yorumun kelime sayısını hesaplayalım\n",
    "review_lengths = df['review_text'].astype(str).apply(lambda x: len(x.split()))\n",
    "\n",
    "# Yorum uzunluklarına dair özet istatistikler (ortalama, medyan, yüzde 95, 99)\n",
    "print(review_lengths.describe(percentiles=[0.5, 0.95, 0.99]))\n"
   ]
  },
  {
   "cell_type": "code",
   "execution_count": 4,
   "id": "1f62e07f-9d10-41c3-b0d7-cf4970df7afd",
   "metadata": {},
   "outputs": [
    {
     "name": "stdout",
     "output_type": "stream",
     "text": [
      "En sık geçen 10 kelime (durak kelimeler dahil): [('the', 339160), ('and', 232464), ('to', 144903), ('a', 127123), ('is', 106371), ('was', 100065), ('hotel', 94000), ('in', 91255), ('i', 82929), ('of', 76599)]\n",
      "En sık geçen 10 kelime (durak kelimeler hariç): [('hotel', 94000), ('room', 46955), ('staff', 42162), ('good', 36261), ('breakfast', 33437), ('location', 28800), ('clean', 28279), ('stay', 26911), ('great', 26093), ('rooms', 25706)]\n"
     ]
    }
   ],
   "source": [
    "import re\n",
    "from collections import Counter\n",
    "\n",
    "# Tüm yorumları tek bir büyük metin haline getirelim ve küçültelim\n",
    "all_text = \" \".join(df['review_text'].astype(str)).lower()\n",
    "\n",
    "# Noktalama işaretlerini kaldır (kelime frekansı analizi için)\n",
    "all_text_clean = re.sub(r\"[^\\w\\s]\", \" \", all_text)\n",
    "words = all_text_clean.split()\n",
    "\n",
    "# Kelime frekanslarını say\n",
    "freq = Counter(words)\n",
    "print(\"En sık geçen 10 kelime (durak kelimeler dahil):\", freq.most_common(10))\n",
    "\n",
    "# İngilizce durak kelimelerini çıkarıp tekrar en sık kelimelere bakalım\n",
    "from nltk.corpus import stopwords\n",
    "stop_words = set(stopwords.words('english'))\n",
    "words_nostop = [w for w in words if w not in stop_words]\n",
    "freq_nostop = Counter(words_nostop)\n",
    "print(\"En sık geçen 10 kelime (durak kelimeler hariç):\", freq_nostop.most_common(10))\n"
   ]
  },
  {
   "cell_type": "code",
   "execution_count": 5,
   "id": "42c486f0-22ca-4893-9f65-3b300667d3f2",
   "metadata": {},
   "outputs": [
    {
     "name": "stderr",
     "output_type": "stream",
     "text": [
      "[nltk_data] Downloading package punkt to\n",
      "[nltk_data]     C:\\Users\\PC\\AppData\\Roaming\\nltk_data...\n",
      "[nltk_data]   Package punkt is already up-to-date!\n",
      "[nltk_data] Downloading package wordnet to\n",
      "[nltk_data]     C:\\Users\\PC\\AppData\\Roaming\\nltk_data...\n",
      "[nltk_data]   Package wordnet is already up-to-date!\n",
      "[nltk_data] Downloading package stopwords to\n",
      "[nltk_data]     C:\\Users\\PC\\AppData\\Roaming\\nltk_data...\n",
      "[nltk_data]   Package stopwords is already up-to-date!\n",
      "[nltk_data] Downloading package punkt_tab to\n",
      "[nltk_data]     C:\\Users\\PC\\AppData\\Roaming\\nltk_data...\n",
      "[nltk_data]   Package punkt_tab is already up-to-date!\n"
     ]
    },
    {
     "name": "stdout",
     "output_type": "stream",
     "text": [
      "Orijinal: Very close to mall and many restaurants. Great location for shopping and dining out. Very professional and polite reception staff. Special thanks to Celal Yayla from the reception staff. Also I highly appreciate another staff who was courteous, polite and attentive, his name is Salahattin Başoğul. Would definitely stay again!\n",
      "Ön işlem sonrası: close mall many restaurant great location shopping dining professional polite reception staff special thanks celal yayla reception staff also highly appreciate another staff courteous polite attentive name salahattin başoğul would definitely stay\n"
     ]
    }
   ],
   "source": [
    "import nltk\n",
    "nltk.download('punkt')\n",
    "nltk.download('wordnet')\n",
    "nltk.download('stopwords')\n",
    "nltk.download('punkt_tab')\n",
    "\n",
    "from nltk.corpus import stopwords\n",
    "from nltk.stem import WordNetLemmatizer\n",
    "\n",
    "stop_words = set(stopwords.words('english'))\n",
    "lemmatizer = WordNetLemmatizer()\n",
    "\n",
    "def preprocess_text(text):\n",
    "    # Küçük harfe çevir\n",
    "    text = text.lower()\n",
    "    # Noktalama işaretlerini kaldır\n",
    "    text = re.sub(r\"[^\\w\\s]\", \" \", text)\n",
    "    # Kelimelere böl\n",
    "    tokens = nltk.word_tokenize(text)\n",
    "    # Durak kelimeleri çıkar ve kelimeleri köklerine (lemma) indirgeme\n",
    "    tokens = [lemmatizer.lemmatize(w) for w in tokens if w not in stop_words]\n",
    "    # Tekrar metne birleştir\n",
    "    return \" \".join(tokens)\n",
    "\n",
    "# Örnek kullanım:\n",
    "sample_review = df['review_text'].iloc[0]\n",
    "print(\"Orijinal:\", sample_review)\n",
    "print(\"Ön işlem sonrası:\", preprocess_text(sample_review))\n"
   ]
  },
  {
   "cell_type": "code",
   "execution_count": 6,
   "id": "381aa5cb-0205-4c0c-a23c-cdcdb8a0de50",
   "metadata": {},
   "outputs": [
    {
     "name": "stdout",
     "output_type": "stream",
     "text": [
      "Eğitim veri sayısı: 55028 Test veri sayısı: 13757\n"
     ]
    }
   ],
   "source": [
    "from sklearn.model_selection import train_test_split\n",
    "from datasets import Dataset\n",
    "\n",
    "# (Opsiyonel) Hızlı deneme amaçlı veri setini bir alt kümeye indirmek:\n",
    "# df = df.sample(20000, random_state=42)\n",
    "\n",
    "# Tabakalı şekilde eğitim (%80) ve test (%20) olarak ayır\n",
    "train_df, test_df = train_test_split(df, test_size=0.2, random_state=42, stratify=df['rating'])\n",
    "print(\"Eğitim veri sayısı:\", len(train_df), \"Test veri sayısı:\", len(test_df))\n",
    "\n",
    "# Model için etiketleri 0-4 aralığına çek (1★->0, 2★->1, ..., 5★->4)\n",
    "train_df['label'] = train_df['rating'] - 1\n",
    "test_df['label'] = test_df['rating'] - 1\n",
    "\n",
    "# HuggingFace Dataset formatına dönüştür (sadece review_text ve label alanlarıyla)\n",
    "train_dataset = Dataset.from_pandas(train_df[['review_text','label']].reset_index(drop=True))\n",
    "test_dataset = Dataset.from_pandas(test_df[['review_text','label']].reset_index(drop=True))\n"
   ]
  },
  {
   "cell_type": "code",
   "execution_count": 7,
   "id": "cadc7fa0-4826-4e1d-8f44-a99d8992d3c2",
   "metadata": {},
   "outputs": [
    {
     "name": "stdout",
     "output_type": "stream",
     "text": [
      "\n",
      "DistilBERT modeli eğitiliyor...\n"
     ]
    },
    {
     "name": "stderr",
     "output_type": "stream",
     "text": [
      "Some weights of DistilBertForSequenceClassification were not initialized from the model checkpoint at distilbert-base-uncased and are newly initialized: ['classifier.bias', 'classifier.weight', 'pre_classifier.bias', 'pre_classifier.weight']\n",
      "You should probably TRAIN this model on a down-stream task to be able to use it for predictions and inference.\n"
     ]
    },
    {
     "data": {
      "application/vnd.jupyter.widget-view+json": {
       "model_id": "38a00c8afa7c45a0a3a3cb976349a9c2",
       "version_major": 2,
       "version_minor": 0
      },
      "text/plain": [
       "Map:   0%|          | 0/55028 [00:00<?, ? examples/s]"
      ]
     },
     "metadata": {},
     "output_type": "display_data"
    },
    {
     "data": {
      "application/vnd.jupyter.widget-view+json": {
       "model_id": "2df10d5ebb61408ea7e12b778b16b3f5",
       "version_major": 2,
       "version_minor": 0
      },
      "text/plain": [
       "Map:   0%|          | 0/13757 [00:00<?, ? examples/s]"
      ]
     },
     "metadata": {},
     "output_type": "display_data"
    },
    {
     "data": {
      "text/html": [
       "\n",
       "    <div>\n",
       "      \n",
       "      <progress value='6880' max='6880' style='width:300px; height:20px; vertical-align: middle;'></progress>\n",
       "      [6880/6880 10:42, Epoch 2/2]\n",
       "    </div>\n",
       "    <table border=\"1\" class=\"dataframe\">\n",
       "  <thead>\n",
       " <tr style=\"text-align: left;\">\n",
       "      <th>Epoch</th>\n",
       "      <th>Training Loss</th>\n",
       "      <th>Validation Loss</th>\n",
       "      <th>Accuracy</th>\n",
       "      <th>F1 Macro</th>\n",
       "      <th>F1 Weighted</th>\n",
       "      <th>Roc Auc</th>\n",
       "    </tr>\n",
       "  </thead>\n",
       "  <tbody>\n",
       "    <tr>\n",
       "      <td>1</td>\n",
       "      <td>0.601300</td>\n",
       "      <td>0.567804</td>\n",
       "      <td>0.762594</td>\n",
       "      <td>0.593808</td>\n",
       "      <td>0.752814</td>\n",
       "      <td>0.977200</td>\n",
       "    </tr>\n",
       "    <tr>\n",
       "      <td>2</td>\n",
       "      <td>0.491300</td>\n",
       "      <td>0.585039</td>\n",
       "      <td>0.760776</td>\n",
       "      <td>0.602846</td>\n",
       "      <td>0.755451</td>\n",
       "      <td>0.978323</td>\n",
       "    </tr>\n",
       "  </tbody>\n",
       "</table><p>"
      ],
      "text/plain": [
       "<IPython.core.display.HTML object>"
      ]
     },
     "metadata": {},
     "output_type": "display_data"
    },
    {
     "data": {
      "text/html": [],
      "text/plain": [
       "<IPython.core.display.HTML object>"
      ]
     },
     "metadata": {},
     "output_type": "display_data"
    },
    {
     "name": "stdout",
     "output_type": "stream",
     "text": [
      "DistilBERT değerlendirme metrikleri: {'eval_loss': 0.5850391983985901, 'eval_accuracy': 0.7607763320491386, 'eval_f1_macro': 0.6028461665058569, 'eval_f1_weighted': 0.755451314034126, 'eval_roc_auc': 0.9783232569723391, 'eval_runtime': 22.1876, 'eval_samples_per_second': 620.031, 'eval_steps_per_second': 38.76, 'epoch': 2.0}\n",
      "DistilBERT karışıklık matrisi:\n",
      " [[ 771  137   50    9   10]\n",
      " [ 159  176  155   24    7]\n",
      " [  46  136  457  336   62]\n",
      " [   4   14  213 1329 1100]\n",
      " [   7    4   26  792 7733]]\n",
      "\n",
      "BERT modeli eğitiliyor...\n"
     ]
    },
    {
     "name": "stderr",
     "output_type": "stream",
     "text": [
      "Some weights of BertForSequenceClassification were not initialized from the model checkpoint at bert-base-uncased and are newly initialized: ['classifier.bias', 'classifier.weight']\n",
      "You should probably TRAIN this model on a down-stream task to be able to use it for predictions and inference.\n"
     ]
    },
    {
     "data": {
      "application/vnd.jupyter.widget-view+json": {
       "model_id": "fffb35c751af4e96bd0e606939a155c1",
       "version_major": 2,
       "version_minor": 0
      },
      "text/plain": [
       "Map:   0%|          | 0/55028 [00:00<?, ? examples/s]"
      ]
     },
     "metadata": {},
     "output_type": "display_data"
    },
    {
     "data": {
      "application/vnd.jupyter.widget-view+json": {
       "model_id": "c28d839304af48a5bd5668c8eadbb9c1",
       "version_major": 2,
       "version_minor": 0
      },
      "text/plain": [
       "Map:   0%|          | 0/13757 [00:00<?, ? examples/s]"
      ]
     },
     "metadata": {},
     "output_type": "display_data"
    },
    {
     "data": {
      "text/html": [
       "\n",
       "    <div>\n",
       "      \n",
       "      <progress value='6880' max='6880' style='width:300px; height:20px; vertical-align: middle;'></progress>\n",
       "      [6880/6880 20:37, Epoch 2/2]\n",
       "    </div>\n",
       "    <table border=\"1\" class=\"dataframe\">\n",
       "  <thead>\n",
       " <tr style=\"text-align: left;\">\n",
       "      <th>Epoch</th>\n",
       "      <th>Training Loss</th>\n",
       "      <th>Validation Loss</th>\n",
       "      <th>Accuracy</th>\n",
       "      <th>F1 Macro</th>\n",
       "      <th>F1 Weighted</th>\n",
       "      <th>Roc Auc</th>\n",
       "    </tr>\n",
       "  </thead>\n",
       "  <tbody>\n",
       "    <tr>\n",
       "      <td>1</td>\n",
       "      <td>0.600500</td>\n",
       "      <td>0.561325</td>\n",
       "      <td>0.765429</td>\n",
       "      <td>0.599679</td>\n",
       "      <td>0.758000</td>\n",
       "      <td>0.978962</td>\n",
       "    </tr>\n",
       "    <tr>\n",
       "      <td>2</td>\n",
       "      <td>0.478000</td>\n",
       "      <td>0.578272</td>\n",
       "      <td>0.761939</td>\n",
       "      <td>0.604232</td>\n",
       "      <td>0.757176</td>\n",
       "      <td>0.979996</td>\n",
       "    </tr>\n",
       "  </tbody>\n",
       "</table><p>"
      ],
      "text/plain": [
       "<IPython.core.display.HTML object>"
      ]
     },
     "metadata": {},
     "output_type": "display_data"
    },
    {
     "data": {
      "text/html": [],
      "text/plain": [
       "<IPython.core.display.HTML object>"
      ]
     },
     "metadata": {},
     "output_type": "display_data"
    },
    {
     "name": "stdout",
     "output_type": "stream",
     "text": [
      "BERT değerlendirme metrikleri: {'eval_loss': 0.5782715678215027, 'eval_accuracy': 0.7619393763175111, 'eval_f1_macro': 0.6042323118187575, 'eval_f1_weighted': 0.7571755145073997, 'eval_roc_auc': 0.9799963582382731, 'eval_runtime': 42.5845, 'eval_samples_per_second': 323.052, 'eval_steps_per_second': 20.195, 'epoch': 2.0}\n",
      "BERT karışıklık matrisi:\n",
      " [[ 761  150   48    5   13]\n",
      " [ 156  171  163   25    6]\n",
      " [  43  123  467  353   51]\n",
      " [   4   13  198 1357 1088]\n",
      " [   4    2   21  809 7726]]\n",
      "\n",
      "RoBERTa modeli eğitiliyor...\n"
     ]
    },
    {
     "name": "stderr",
     "output_type": "stream",
     "text": [
      "Some weights of RobertaForSequenceClassification were not initialized from the model checkpoint at roberta-base and are newly initialized: ['classifier.dense.bias', 'classifier.dense.weight', 'classifier.out_proj.bias', 'classifier.out_proj.weight']\n",
      "You should probably TRAIN this model on a down-stream task to be able to use it for predictions and inference.\n"
     ]
    },
    {
     "data": {
      "application/vnd.jupyter.widget-view+json": {
       "model_id": "1cee39f1f098413d9399e10ad99434a3",
       "version_major": 2,
       "version_minor": 0
      },
      "text/plain": [
       "Map:   0%|          | 0/55028 [00:00<?, ? examples/s]"
      ]
     },
     "metadata": {},
     "output_type": "display_data"
    },
    {
     "data": {
      "application/vnd.jupyter.widget-view+json": {
       "model_id": "689799db6b57455db2f8c5696f9c0ad3",
       "version_major": 2,
       "version_minor": 0
      },
      "text/plain": [
       "Map:   0%|          | 0/13757 [00:00<?, ? examples/s]"
      ]
     },
     "metadata": {},
     "output_type": "display_data"
    },
    {
     "data": {
      "text/html": [
       "\n",
       "    <div>\n",
       "      \n",
       "      <progress value='6880' max='6880' style='width:300px; height:20px; vertical-align: middle;'></progress>\n",
       "      [6880/6880 20:42, Epoch 2/2]\n",
       "    </div>\n",
       "    <table border=\"1\" class=\"dataframe\">\n",
       "  <thead>\n",
       " <tr style=\"text-align: left;\">\n",
       "      <th>Epoch</th>\n",
       "      <th>Training Loss</th>\n",
       "      <th>Validation Loss</th>\n",
       "      <th>Accuracy</th>\n",
       "      <th>F1 Macro</th>\n",
       "      <th>F1 Weighted</th>\n",
       "      <th>Roc Auc</th>\n",
       "    </tr>\n",
       "  </thead>\n",
       "  <tbody>\n",
       "    <tr>\n",
       "      <td>1</td>\n",
       "      <td>0.612400</td>\n",
       "      <td>0.585768</td>\n",
       "      <td>0.761212</td>\n",
       "      <td>0.611975</td>\n",
       "      <td>0.756478</td>\n",
       "      <td>0.978953</td>\n",
       "    </tr>\n",
       "    <tr>\n",
       "      <td>2</td>\n",
       "      <td>0.515800</td>\n",
       "      <td>0.564781</td>\n",
       "      <td>0.767391</td>\n",
       "      <td>0.611450</td>\n",
       "      <td>0.761134</td>\n",
       "      <td>0.980552</td>\n",
       "    </tr>\n",
       "  </tbody>\n",
       "</table><p>"
      ],
      "text/plain": [
       "<IPython.core.display.HTML object>"
      ]
     },
     "metadata": {},
     "output_type": "display_data"
    },
    {
     "data": {
      "text/html": [],
      "text/plain": [
       "<IPython.core.display.HTML object>"
      ]
     },
     "metadata": {},
     "output_type": "display_data"
    },
    {
     "name": "stdout",
     "output_type": "stream",
     "text": [
      "RoBERTa değerlendirme metrikleri: {'eval_loss': 0.5647814273834229, 'eval_accuracy': 0.767391146325507, 'eval_f1_macro': 0.6114496532340565, 'eval_f1_weighted': 0.7611341208565112, 'eval_roc_auc': 0.9805523420640704, 'eval_runtime': 41.7411, 'eval_samples_per_second': 329.58, 'eval_steps_per_second': 20.603, 'epoch': 2.0}\n",
      "RoBERTa karışıklık matrisi:\n",
      " [[ 796  107   57    6   11]\n",
      " [ 168  168  163   16    6]\n",
      " [  52  116  475  335   59]\n",
      " [   4    6  211 1348 1091]\n",
      " [   3    4   25  760 7770]]\n",
      "\n",
      "DeBERTa modeli eğitiliyor...\n"
     ]
    },
    {
     "name": "stderr",
     "output_type": "stream",
     "text": [
      "Some weights of DebertaForSequenceClassification were not initialized from the model checkpoint at microsoft/deberta-base and are newly initialized: ['classifier.bias', 'classifier.weight', 'pooler.dense.bias', 'pooler.dense.weight']\n",
      "You should probably TRAIN this model on a down-stream task to be able to use it for predictions and inference.\n"
     ]
    },
    {
     "data": {
      "application/vnd.jupyter.widget-view+json": {
       "model_id": "22ff229a73704ab6b4fa4b96ebd8e3ca",
       "version_major": 2,
       "version_minor": 0
      },
      "text/plain": [
       "Map:   0%|          | 0/55028 [00:00<?, ? examples/s]"
      ]
     },
     "metadata": {},
     "output_type": "display_data"
    },
    {
     "data": {
      "application/vnd.jupyter.widget-view+json": {
       "model_id": "1ecd18103ddb4e0aaea87e52258f67b4",
       "version_major": 2,
       "version_minor": 0
      },
      "text/plain": [
       "Map:   0%|          | 0/13757 [00:00<?, ? examples/s]"
      ]
     },
     "metadata": {},
     "output_type": "display_data"
    },
    {
     "data": {
      "text/html": [
       "\n",
       "    <div>\n",
       "      \n",
       "      <progress value='6880' max='6880' style='width:300px; height:20px; vertical-align: middle;'></progress>\n",
       "      [6880/6880 28:15, Epoch 2/2]\n",
       "    </div>\n",
       "    <table border=\"1\" class=\"dataframe\">\n",
       "  <thead>\n",
       " <tr style=\"text-align: left;\">\n",
       "      <th>Epoch</th>\n",
       "      <th>Training Loss</th>\n",
       "      <th>Validation Loss</th>\n",
       "      <th>Accuracy</th>\n",
       "      <th>F1 Macro</th>\n",
       "      <th>F1 Weighted</th>\n",
       "      <th>Roc Auc</th>\n",
       "    </tr>\n",
       "  </thead>\n",
       "  <tbody>\n",
       "    <tr>\n",
       "      <td>1</td>\n",
       "      <td>0.589500</td>\n",
       "      <td>0.556457</td>\n",
       "      <td>0.768409</td>\n",
       "      <td>0.599386</td>\n",
       "      <td>0.754501</td>\n",
       "      <td>0.979974</td>\n",
       "    </tr>\n",
       "    <tr>\n",
       "      <td>2</td>\n",
       "      <td>0.482000</td>\n",
       "      <td>0.563340</td>\n",
       "      <td>0.769572</td>\n",
       "      <td>0.623404</td>\n",
       "      <td>0.764324</td>\n",
       "      <td>0.981447</td>\n",
       "    </tr>\n",
       "  </tbody>\n",
       "</table><p>"
      ],
      "text/plain": [
       "<IPython.core.display.HTML object>"
      ]
     },
     "metadata": {},
     "output_type": "display_data"
    },
    {
     "data": {
      "text/html": [],
      "text/plain": [
       "<IPython.core.display.HTML object>"
      ]
     },
     "metadata": {},
     "output_type": "display_data"
    },
    {
     "name": "stdout",
     "output_type": "stream",
     "text": [
      "DeBERTa değerlendirme metrikleri: {'eval_loss': 0.5633400678634644, 'eval_accuracy': 0.7695718543287053, 'eval_f1_macro': 0.6234042118587433, 'eval_f1_weighted': 0.7643235602821581, 'eval_roc_auc': 0.9814465246309291, 'eval_runtime': 59.9189, 'eval_samples_per_second': 229.594, 'eval_steps_per_second': 14.353, 'epoch': 2.0}\n",
      "DeBERTa karışıklık matrisi:\n",
      " [[ 791  121   46    5   14]\n",
      " [ 162  196  136   20    7]\n",
      " [  49  129  488  321   50]\n",
      " [   5    8  207 1358 1082]\n",
      " [   3    3   21  781 7754]]\n"
     ]
    }
   ],
   "source": [
    "import numpy as np\n",
    "from transformers import AutoTokenizer, AutoModelForSequenceClassification, TrainingArguments, Trainer\n",
    "from sklearn.metrics import accuracy_score, f1_score, roc_auc_score, confusion_matrix\n",
    "from datasets import Dataset\n",
    "\n",
    "def train_and_evaluate(model_name: str, model_checkpoint: str, train_data: Dataset, test_data: Dataset, epochs: int = 2, batch_size: int = 16):\n",
    "    print(f\"\\n{model_name} modeli eğitiliyor...\")\n",
    "    \n",
    "    tokenizer = AutoTokenizer.from_pretrained(model_checkpoint, use_fast=False)\n",
    "    model = AutoModelForSequenceClassification.from_pretrained(model_checkpoint, num_labels=5)\n",
    "    \n",
    "    def tokenize_batch(batch):\n",
    "        return tokenizer(batch['review_text'], truncation=True, padding=True, max_length=128)\n",
    "\n",
    "    train_enc = train_data.map(tokenize_batch, batched=True)\n",
    "    test_enc = test_data.map(tokenize_batch, batched=True)\n",
    "\n",
    "    def compute_metrics(pred):\n",
    "        labels = pred.label_ids\n",
    "        preds = np.argmax(pred.predictions, axis=1)\n",
    "        acc = accuracy_score(labels, preds)\n",
    "        f1_macro = f1_score(labels, preds, average='macro')\n",
    "        f1_weighted = f1_score(labels, preds, average='weighted')\n",
    "        binary_labels = [1 if l >= 3 else 0 for l in labels]\n",
    "        probs = np.exp(pred.predictions) / np.exp(pred.predictions).sum(axis=1, keepdims=True)\n",
    "        pos_probs = probs[:, 3] + probs[:, 4]\n",
    "        try:\n",
    "            roc = roc_auc_score(binary_labels, pos_probs)\n",
    "        except ValueError:\n",
    "            roc = np.nan\n",
    "        return {\"accuracy\": acc, \"f1_macro\": f1_macro, \"f1_weighted\": f1_weighted, \"roc_auc\": roc}\n",
    "\n",
    "    training_args = TrainingArguments(\n",
    "        output_dir=f\"{model_name}_results\",\n",
    "        num_train_epochs=epochs,\n",
    "        per_device_train_batch_size=batch_size,\n",
    "        per_device_eval_batch_size=batch_size,\n",
    "        eval_strategy=\"epoch\",\n",
    "        save_strategy=\"no\",\n",
    "        logging_steps=500,\n",
    "        load_best_model_at_end=False,\n",
    "        seed=42,\n",
    "        report_to=\"none\"\n",
    "    )\n",
    "\n",
    "    trainer = Trainer(\n",
    "        model=model,\n",
    "        args=training_args,\n",
    "        train_dataset=train_enc,\n",
    "        eval_dataset=test_enc,\n",
    "        compute_metrics=compute_metrics\n",
    "    )\n",
    "\n",
    "    trainer.train()\n",
    "    eval_metrics = trainer.evaluate(test_enc)\n",
    "    preds = np.argmax(trainer.predict(test_enc).predictions, axis=1)\n",
    "    cm = confusion_matrix(test_enc['label'], preds)\n",
    "\n",
    "    print(f\"{model_name} değerlendirme metrikleri:\", eval_metrics)\n",
    "    print(f\"{model_name} karışıklık matrisi:\\n\", cm)\n",
    "    \n",
    "    return eval_metrics, cm, trainer.model\n",
    "\n",
    "# Eğitilecek modeller\n",
    "models = {\n",
    "    \"DistilBERT\": \"distilbert-base-uncased\",\n",
    "    \"BERT\": \"bert-base-uncased\",\n",
    "    \"RoBERTa\": \"roberta-base\",\n",
    "    \"DeBERTa\": \"microsoft/deberta-base\"\n",
    "}\n",
    "\n",
    "results = {}\n",
    "confusion_matrices = {}\n",
    "trained_models = {}  # ⬅ Fine-tune edilmiş modeller burada saklanacak\n",
    "\n",
    "for name, checkpoint in models.items():\n",
    "    metrics, cm, model = train_and_evaluate(name, checkpoint, train_dataset, test_dataset, epochs=2, batch_size=16)\n",
    "    results[name] = metrics\n",
    "    confusion_matrices[name] = cm\n",
    "    trained_models[name] = model\n"
   ]
  },
  {
   "cell_type": "code",
   "execution_count": 8,
   "id": "b811d75c-6cba-4efa-8113-94d0dd96b274",
   "metadata": {},
   "outputs": [
    {
     "name": "stdout",
     "output_type": "stream",
     "text": [
      "DistilBERT: Accuracy=0.761, Macro-F1=0.603, ROC-AUC=0.978\n",
      "BERT: Accuracy=0.762, Macro-F1=0.604, ROC-AUC=0.980\n",
      "RoBERTa: Accuracy=0.767, Macro-F1=0.611, ROC-AUC=0.981\n",
      "DeBERTa: Accuracy=0.770, Macro-F1=0.623, ROC-AUC=0.981\n"
     ]
    }
   ],
   "source": [
    "# Eğitilen her modelin metriklerini yazdıralım\n",
    "for name, metrics in results.items():\n",
    "    acc = metrics['eval_accuracy']\n",
    "    f1 = metrics['eval_f1_macro']\n",
    "    roc = metrics['eval_roc_auc']\n",
    "    print(f\"{name}: Accuracy={acc:.3f}, Macro-F1={f1:.3f}, ROC-AUC={roc:.3f}\")\n"
   ]
  },
  {
   "cell_type": "code",
   "execution_count": 9,
   "id": "7c254627-fb94-441b-be2e-b08082303fa6",
   "metadata": {},
   "outputs": [
    {
     "name": "stdout",
     "output_type": "stream",
     "text": [
      "Yorum:\n",
      "Although I am turkish I am writing in english so all international guests can escape from staying at this horrible hotel. We booked the hotel for 2 days as my father is in Intensive care unit at hospital nearby thinking that it is a wyndham hotel without knowing it is only a unqualified franchise!  As they said we can pay day by day, we paid for the first night saying that we will pay for the second day the next morning. Guess what? After no sleep for 36hours at the hospital, while we checked in and sleeping at 21h49 they called us to tell they received an online reservation for our suit room starting from tomorrow although the reception guy told us initially that he booked for 2 days and closed our room for reservation for others'online booking. When I asked them what it means\n",
      "\n",
      "Gerçek puan: 1★, Model tahmini: 1★ -> TUTARLI\n",
      "--------------------------------------------------------------------------------\n",
      "\n",
      "Yorum:\n",
      "I stayed at this hotel while working in Kadıköy and I'm afraid I would not stay here again. My colleagues received newly refurbished rooms. I got a standard old style room the smelled unpleasant. The benefits are location and proximity to ferry port. The hotel is cheap but I did not think it was very modern. Large room. The photos don't look like my room. If you are happy with cheap and basic it will do. Just not for me.\n",
      "\n",
      "Gerçek puan: 3★, Model tahmini: 2★ -> TUTARLI\n",
      "--------------------------------------------------------------------------------\n",
      "\n",
      "Yorum:\n",
      "I have just spent two nights at La Maison, while working in Istanbul. I had a lovely room with a great view of the Bosphorus. The Hotel is situated on quite a steep hill, which I walked down a couple off times to the Ciragan Palace Kempinski Hotel where some colleagues where staying, and went out to eat nearby. On other occasions the Hotel found me a Taxi, that generally turned up very promptly. Other than breakfast, I did not get the chance to eat in the evening at the Hotel.  I will return to Istanbul at some point not working, and would consider staying again\n",
      "\n",
      "Gerçek puan: 4★, Model tahmini: 4★ -> TUTARLI\n",
      "--------------------------------------------------------------------------------\n",
      "\n",
      "Yorum:\n",
      "With a charming location on the riverside and rustic chalet style buildings scattered throughout the flowering gardens, Robin's nest has a lot to offer. The highlights are eating on the porch overhanging the water and swimming in the large and spotless pool. The rooms are clean with wood paneling and balconies . Request one on the river side not the road. It is a long walk or short drive to town. A shorter walk to the beach.  The service was extremely friendly but certain aspects that I found charmingly reminiscent of hotels 20 years ago, might not appeal to everyone. The large menu only had about one quarter of the items listed. The bar has all kinds of special drinks but only one or two bottles of wine from the list of about a dozen and those were on the verge of turning. \n",
      "\n",
      "Gerçek puan: 4★, Model tahmini: 4★ -> TUTARLI\n",
      "--------------------------------------------------------------------------------\n",
      "\n",
      "Yorum:\n",
      "The location, architectural details, the service quality... cosiness , the view and the decoration is unique...The owners are superb personalities with taste, knowledge and refinement..It's a \"must do\" experience for Istanbul\n",
      "\n",
      "Gerçek puan: 5★, Model tahmini: 5★ -> TUTARLI\n",
      "--------------------------------------------------------------------------------\n",
      "\n"
     ]
    }
   ],
   "source": [
    "import torch\n",
    "\n",
    "deberta_model = trained_models[\"DeBERTa\"]\n",
    "deberta_model.eval()\n",
    "\n",
    "deberta_tokenizer = AutoTokenizer.from_pretrained(\"microsoft/deberta-base\", use_fast=False)\n",
    "\n",
    "def predict_rating(text, model, tokenizer):\n",
    "    inputs = tokenizer(text, return_tensors='pt', truncation=True, max_length=128, padding='max_length')\n",
    "    inputs = {k: v.to(model.device) for k, v in inputs.items()}\n",
    "    with torch.no_grad():\n",
    "        outputs = model(**inputs)\n",
    "    logits = outputs.logits.detach().cpu().numpy()\n",
    "    pred_label = logits.argmax(axis=1)[0]\n",
    "    return pred_label + 1\n",
    "\n",
    "# Test setinden örnek yorumlar\n",
    "sample_reviews = test_df.sample(5, random_state=1)\n",
    "\n",
    "for idx, row in sample_reviews.iterrows():\n",
    "    text = row['review_text']\n",
    "    actual = row['rating']\n",
    "    pred = predict_rating(text, deberta_model, deberta_tokenizer)\n",
    "    \n",
    "    if abs(pred - actual) > 1 and not (pred >= 4 and actual >= 4) and not (pred <= 2 and actual <= 2):\n",
    "        consistency = \"TUTARSIZ\"\n",
    "    else:\n",
    "        consistency = \"TUTARLI\"\n",
    "    \n",
    "    print(f\"Yorum:\\n{text}\\n\")\n",
    "    print(f\"Gerçek puan: {actual}★, Model tahmini: {pred}★ -> {consistency}\\n{'-'*80}\\n\")\n"
   ]
  },
  {
   "cell_type": "code",
   "execution_count": null,
   "id": "a35e89cb-f42a-4bba-ab8b-eae274c86f50",
   "metadata": {},
   "outputs": [],
   "source": []
  }
 ],
 "metadata": {
  "kernelspec": {
   "display_name": "Python [conda env:base] *",
   "language": "python",
   "name": "conda-base-py"
  },
  "language_info": {
   "codemirror_mode": {
    "name": "ipython",
    "version": 3
   },
   "file_extension": ".py",
   "mimetype": "text/x-python",
   "name": "python",
   "nbconvert_exporter": "python",
   "pygments_lexer": "ipython3",
   "version": "3.12.7"
  }
 },
 "nbformat": 4,
 "nbformat_minor": 5
}
